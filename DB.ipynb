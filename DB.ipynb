{
 "cells": [
  {
   "cell_type": "code",
   "execution_count": 1,
   "id": "clear-valentine",
   "metadata": {},
   "outputs": [],
   "source": [
    "from pymongo import MongoClient\n",
    "import pandas as pd\n",
    "from datetime import datetime, date\n",
    "import threading\n",
    "import requests\n",
    "\n",
    "db = MongoClient().finance"
   ]
  },
  {
   "cell_type": "code",
   "execution_count": 2,
   "id": "mechanical-virgin",
   "metadata": {},
   "outputs": [],
   "source": [
    "date = pd.date_range(date(2021, 4, 1), periods=10).tolist()\n",
    "data = []"
   ]
  },
  {
   "cell_type": "code",
   "execution_count": 3,
   "id": "developmental-hebrew",
   "metadata": {},
   "outputs": [
    {
     "name": "stdout",
     "output_type": "stream",
     "text": [
      "0 2021-04-01 []\n",
      "1 2021-04-02 []\n",
      "2 2021-04-03 []\n",
      "3 2021-04-04 []\n",
      "4 2021-04-05 []\n",
      "0 2021-04-06 []\n",
      "1 2021-04-07 []\n",
      "2 2021-04-08 []\n",
      "3 2021-04-09 []\n",
      "4 2021-04-10 []\n"
     ]
    }
   ],
   "source": [
    "for i in range(0,len(date)):\n",
    "    strDate = date[i].date().strftime(\"%Y-%m-%d\")\n",
    "    url = f\"https://api.polygon.io/v2/reference/news?limit=1000&order=descending&sort=published_utc&ticker=AMD&published_utc={strDate}&apiKey=YZj_Ugd4fkCRX57STH5MeItRlAz31DRN\"\n",
    "    response = requests.get(url)\n",
    "    news = response.json()['results']\n",
    "    print(i%5,strDate,news)\n",
    "    for new in news:\n",
    "        data.append({\"title\": new['title'], 'description': new['description'], 'published_utc': new['published_utc']})\n",
    "    if i != 0 and i%5 == 0:\n",
    "        stop = threading.Event()\n",
    "        stop.wait(120)\n",
    "    \n",
    "    \n",
    "    \n",
    "    "
   ]
  },
  {
   "cell_type": "code",
   "execution_count": 4,
   "id": "hispanic-impression",
   "metadata": {},
   "outputs": [
    {
     "data": {
      "text/plain": [
       "[]"
      ]
     },
     "execution_count": 4,
     "metadata": {},
     "output_type": "execute_result"
    }
   ],
   "source": [
    "data"
   ]
  },
  {
   "cell_type": "code",
   "execution_count": 7,
   "id": "lyric-efficiency",
   "metadata": {},
   "outputs": [
    {
     "data": {
      "text/plain": [
       "'2021-05-10'"
      ]
     },
     "execution_count": 7,
     "metadata": {},
     "output_type": "execute_result"
    }
   ],
   "source": [
    "datetime.today().date().strftime(\"%Y-%m-%d\")"
   ]
  },
  {
   "cell_type": "code",
   "execution_count": null,
   "id": "editorial-myrtle",
   "metadata": {},
   "outputs": [],
   "source": []
  }
 ],
 "metadata": {
  "kernelspec": {
   "display_name": "Python 3",
   "language": "python",
   "name": "python3"
  },
  "language_info": {
   "codemirror_mode": {
    "name": "ipython",
    "version": 3
   },
   "file_extension": ".py",
   "mimetype": "text/x-python",
   "name": "python",
   "nbconvert_exporter": "python",
   "pygments_lexer": "ipython3",
   "version": "3.8.0"
  }
 },
 "nbformat": 4,
 "nbformat_minor": 5
}
