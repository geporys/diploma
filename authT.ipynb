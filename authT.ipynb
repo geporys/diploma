{
 "cells": [
  {
   "cell_type": "code",
   "execution_count": 1,
   "id": "dated-synthesis",
   "metadata": {},
   "outputs": [],
   "source": [
    "import requests\n",
    "import pandas as pd"
   ]
  },
  {
   "cell_type": "code",
   "execution_count": 2,
   "id": "advisory-prayer",
   "metadata": {},
   "outputs": [],
   "source": [
    "token = 't.MnG7W-Rk6eWNO7OW_9v2LIW9bYRxknmM4sYMx2MzVCR2Gx7JBOe-WXz-rzDbm9kpATJBZPQOQhlvCdj7YMZafg'\n",
    "url = 'https://api-invest.tinkoff.ru/openapi/user/accounts'\n",
    "headers = {'Authorization': \"Bearer \"+token}"
   ]
  },
  {
   "cell_type": "code",
   "execution_count": 3,
   "id": "optical-baseball",
   "metadata": {},
   "outputs": [],
   "source": [
    "response = requests.get(url, headers=headers)"
   ]
  },
  {
   "cell_type": "code",
   "execution_count": 4,
   "id": "continued-dietary",
   "metadata": {},
   "outputs": [
    {
     "data": {
      "text/plain": [
       "{'trackingId': '5c6993f90f315d27',\n",
       " 'payload': {'accounts': [{'brokerAccountType': 'Tinkoff',\n",
       "    'brokerAccountId': '2045426497'}]},\n",
       " 'status': 'Ok'}"
      ]
     },
     "execution_count": 4,
     "metadata": {},
     "output_type": "execute_result"
    }
   ],
   "source": [
    "response.json()"
   ]
  },
  {
   "cell_type": "code",
   "execution_count": 5,
   "id": "incomplete-singapore",
   "metadata": {},
   "outputs": [],
   "source": [
    "id = None\n",
    "if (response.status_code == 200):\n",
    "    id = response.json()['payload']['accounts'][0]['brokerAccountId']"
   ]
  },
  {
   "cell_type": "code",
   "execution_count": 6,
   "id": "herbal-collect",
   "metadata": {},
   "outputs": [
    {
     "data": {
      "text/plain": [
       "'2045426497'"
      ]
     },
     "execution_count": 6,
     "metadata": {},
     "output_type": "execute_result"
    }
   ],
   "source": [
    "id"
   ]
  },
  {
   "cell_type": "code",
   "execution_count": 7,
   "id": "informative-field",
   "metadata": {},
   "outputs": [
    {
     "name": "stdout",
     "output_type": "stream",
     "text": [
      "200\n"
     ]
    }
   ],
   "source": [
    "portfolio = None\n",
    "if id:\n",
    "    url = 'https://api-invest.tinkoff.ru/openapi/portfolio'\n",
    "    portfolio_response = requests.get(url, headers=headers)\n",
    "    print(portfolio_response.status_code)\n",
    "    if portfolio_response.status_code == 200:\n",
    "        portfolio = portfolio_response.json()"
   ]
  },
  {
   "cell_type": "code",
   "execution_count": null,
   "id": "unavailable-adult",
   "metadata": {},
   "outputs": [],
   "source": []
  }
 ],
 "metadata": {
  "kernelspec": {
   "display_name": "Python 3",
   "language": "python",
   "name": "python3"
  },
  "language_info": {
   "codemirror_mode": {
    "name": "ipython",
    "version": 3
   },
   "file_extension": ".py",
   "mimetype": "text/x-python",
   "name": "python",
   "nbconvert_exporter": "python",
   "pygments_lexer": "ipython3",
   "version": "3.8.0"
  }
 },
 "nbformat": 4,
 "nbformat_minor": 5
}
